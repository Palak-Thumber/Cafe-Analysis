{
 "cells": [
  {
   "cell_type": "code",
   "execution_count": 26,
   "id": "d557ebdc-73ea-4ac9-987b-1b0ba7aed0cd",
   "metadata": {},
   "outputs": [
    {
     "name": "stdout",
     "output_type": "stream",
     "text": [
      "Requirement already satisfied: selenium in c:\\users\\palak thumber\\anaconda3\\lib\\site-packages (4.35.0)Note: you may need to restart the kernel to use updated packages.\n",
      "\n",
      "Requirement already satisfied: urllib3<3.0,>=2.5.0 in c:\\users\\palak thumber\\anaconda3\\lib\\site-packages (from urllib3[socks]<3.0,>=2.5.0->selenium) (2.5.0)\n",
      "Requirement already satisfied: trio~=0.30.0 in c:\\users\\palak thumber\\anaconda3\\lib\\site-packages (from selenium) (0.30.0)\n",
      "Requirement already satisfied: trio-websocket~=0.12.2 in c:\\users\\palak thumber\\anaconda3\\lib\\site-packages (from selenium) (0.12.2)\n",
      "Requirement already satisfied: certifi>=2025.6.15 in c:\\users\\palak thumber\\anaconda3\\lib\\site-packages (from selenium) (2025.8.3)\n",
      "Requirement already satisfied: typing_extensions~=4.14.0 in c:\\users\\palak thumber\\anaconda3\\lib\\site-packages (from selenium) (4.14.1)\n",
      "Requirement already satisfied: websocket-client~=1.8.0 in c:\\users\\palak thumber\\anaconda3\\lib\\site-packages (from selenium) (1.8.0)\n",
      "Requirement already satisfied: attrs>=23.2.0 in c:\\users\\palak thumber\\anaconda3\\lib\\site-packages (from trio~=0.30.0->selenium) (25.3.0)\n",
      "Requirement already satisfied: sortedcontainers in c:\\users\\palak thumber\\anaconda3\\lib\\site-packages (from trio~=0.30.0->selenium) (2.4.0)\n",
      "Requirement already satisfied: idna in c:\\users\\palak thumber\\anaconda3\\lib\\site-packages (from trio~=0.30.0->selenium) (3.4)\n",
      "Requirement already satisfied: outcome in c:\\users\\palak thumber\\anaconda3\\lib\\site-packages (from trio~=0.30.0->selenium) (1.3.0.post0)\n",
      "Requirement already satisfied: sniffio>=1.3.0 in c:\\users\\palak thumber\\anaconda3\\lib\\site-packages (from trio~=0.30.0->selenium) (1.3.0)\n",
      "Requirement already satisfied: cffi>=1.14 in c:\\users\\palak thumber\\anaconda3\\lib\\site-packages (from trio~=0.30.0->selenium) (1.16.0)\n",
      "Requirement already satisfied: wsproto>=0.14 in c:\\users\\palak thumber\\anaconda3\\lib\\site-packages (from trio-websocket~=0.12.2->selenium) (1.2.0)\n",
      "Requirement already satisfied: pysocks!=1.5.7,<2.0,>=1.5.6 in c:\\users\\palak thumber\\anaconda3\\lib\\site-packages (from urllib3[socks]<3.0,>=2.5.0->selenium) (1.7.1)\n",
      "Requirement already satisfied: pycparser in c:\\users\\palak thumber\\anaconda3\\lib\\site-packages (from cffi>=1.14->trio~=0.30.0->selenium) (2.21)\n",
      "Requirement already satisfied: h11<1,>=0.9.0 in c:\\users\\palak thumber\\anaconda3\\lib\\site-packages (from wsproto>=0.14->trio-websocket~=0.12.2->selenium) (0.16.0)\n"
     ]
    }
   ],
   "source": [
    "pip install selenium"
   ]
  },
  {
   "cell_type": "code",
   "execution_count": 27,
   "id": "55ed7e9a-f049-4b65-8968-a95f5db4c6ca",
   "metadata": {},
   "outputs": [],
   "source": [
    "from selenium import webdriver\n",
    "driver=webdriver.Chrome()"
   ]
  },
  {
   "cell_type": "code",
   "execution_count": 28,
   "id": "2d91f558-142e-41d6-a6ff-ff4052716cf3",
   "metadata": {},
   "outputs": [],
   "source": [
    "driver.maximize_window()"
   ]
  },
  {
   "cell_type": "code",
   "execution_count": 29,
   "id": "ecc5da53-8396-4417-9e63-3958a79831e8",
   "metadata": {},
   "outputs": [],
   "source": [
    "driver.get('https://www.zomato.com/surat/surat-city-restaurants/caf%C3%A9')"
   ]
  },
  {
   "cell_type": "code",
   "execution_count": 30,
   "id": "de10b19d-7090-40e2-a4cc-331e1b24af78",
   "metadata": {},
   "outputs": [
    {
     "name": "stdout",
     "output_type": "stream",
     "text": [
      "[]\n"
     ]
    }
   ],
   "source": [
    "from selenium.webdriver.common.by import By\n",
    "name=driver.find_elements(By.XPATH, '//h4[@class=\"sc-1hp8d8a-0 sc-iEPtyo fKawif\"]')\n",
    "name_list=[]\n",
    "for i in name:\n",
    "    name_list.append(i.text)\n",
    "print(name_list)"
   ]
  },
  {
   "cell_type": "code",
   "execution_count": 31,
   "id": "d88736c7-bacc-4505-baba-521e875f9e8c",
   "metadata": {},
   "outputs": [
    {
     "name": "stdout",
     "output_type": "stream",
     "text": [
      "[]\n"
     ]
    }
   ],
   "source": [
    "area=driver.find_elements(By.XPATH, '//p[@class=\"sc-1hez2tp-0 sc-kQZOhr kWLunQ\"]')\n",
    "area_list=[]\n",
    "for i in area:\n",
    "    area_list.append(i.text)\n",
    "print(area_list)"
   ]
  },
  {
   "cell_type": "code",
   "execution_count": 32,
   "id": "bececeaf-1948-4306-a840-327a6960c89e",
   "metadata": {},
   "outputs": [
    {
     "name": "stdout",
     "output_type": "stream",
     "text": [
      "['4.1', '4.2', '4.3', '4.0', 'New', '4.5', '4.0', '3.9', '4.3']\n"
     ]
    }
   ],
   "source": [
    "\n",
    "dining_rating=driver.find_elements(By.XPATH, '//div[@class=\"sc-1q7bklc-1 cILgox\"]')\n",
    "dining_rating_list=[]\n",
    "for i in dining_rating:\n",
    "    dining_rating_list.append(i.text)\n",
    "print(dining_rating_list)"
   ]
  },
  {
   "cell_type": "code",
   "execution_count": 33,
   "id": "5bd37b81-09ad-4f39-965c-ed85ca67e756",
   "metadata": {},
   "outputs": [
    {
     "name": "stdout",
     "output_type": "stream",
     "text": [
      "['4.1', '4.2', '4.3', '4.0', 'New', '4.5', '4.0', '3.9', '4.3']\n"
     ]
    }
   ],
   "source": [
    "delivery_rating=driver.find_elements(By.XPATH, '//div[@class=\"sc-1q7bklc-1 cILgox\"]')\n",
    "delivery_rating_list=[]\n",
    "for i in delivery_rating:\n",
    "    delivery_rating_list.append(i.text)\n",
    "print(delivery_rating_list)"
   ]
  },
  {
   "cell_type": "code",
   "execution_count": 34,
   "id": "2c93ed6a-3b30-42f2-9c1a-06eedd25001a",
   "metadata": {},
   "outputs": [
    {
     "name": "stdout",
     "output_type": "stream",
     "text": [
      "[]\n"
     ]
    }
   ],
   "source": [
    "\n",
    "items=driver.find_elements(By.XPATH, '//p[@class=\"sc-1hez2tp-0 sc-gUlUPW gQHQnh\"]')\n",
    "items_list=[]\n",
    "for i in items:\n",
    "    items_list.append(i.text)\n",
    "print(items_list)"
   ]
  },
  {
   "cell_type": "code",
   "execution_count": 23,
   "id": "af43d267-5f72-4c16-aab1-43a38738eded",
   "metadata": {},
   "outputs": [
    {
     "name": "stdout",
     "output_type": "stream",
     "text": [
      "[]\n"
     ]
    }
   ],
   "source": [
    "average_cost=driver.find_elements(By.XPATH, '//p[@class=\"sc-1hez2tp-0 sc-gUlUPW iMvhva\"]')\n",
    "average_cost_list=[]\n",
    "for i in average_cost:\n",
    "    average_cost_list.append(i.text)\n",
    "print(average_cost_list)"
   ]
  },
  {
   "cell_type": "code",
   "execution_count": null,
   "id": "f06cca93-26e0-44c6-be69-ecbb9d686a61",
   "metadata": {},
   "outputs": [],
   "source": []
  }
 ],
 "metadata": {
  "kernelspec": {
   "display_name": "Python 3 (ipykernel)",
   "language": "python",
   "name": "python3"
  },
  "language_info": {
   "codemirror_mode": {
    "name": "ipython",
    "version": 3
   },
   "file_extension": ".py",
   "mimetype": "text/x-python",
   "name": "python",
   "nbconvert_exporter": "python",
   "pygments_lexer": "ipython3",
   "version": "3.11.7"
  }
 },
 "nbformat": 4,
 "nbformat_minor": 5
}
